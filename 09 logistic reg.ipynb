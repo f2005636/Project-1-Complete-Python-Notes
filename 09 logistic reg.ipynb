{
 "cells": [
  {
   "cell_type": "markdown",
   "metadata": {},
   "source": [
    "** 1. import libraries **"
   ]
  },
  {
   "cell_type": "code",
   "execution_count": 1,
   "metadata": {
    "collapsed": true
   },
   "outputs": [],
   "source": [
    "import numpy as np\n",
    "import pandas as pd\n",
    "import statsmodels.api as sm"
   ]
  },
  {
   "cell_type": "markdown",
   "metadata": {},
   "source": [
    "** 2. import dataset **"
   ]
  },
  {
   "cell_type": "code",
   "execution_count": 2,
   "metadata": {},
   "outputs": [
    {
     "data": {
      "text/html": [
       "<div>\n",
       "<style scoped>\n",
       "    .dataframe tbody tr th:only-of-type {\n",
       "        vertical-align: middle;\n",
       "    }\n",
       "\n",
       "    .dataframe tbody tr th {\n",
       "        vertical-align: top;\n",
       "    }\n",
       "\n",
       "    .dataframe thead th {\n",
       "        text-align: right;\n",
       "    }\n",
       "</style>\n",
       "<table border=\"1\" class=\"dataframe\">\n",
       "  <thead>\n",
       "    <tr style=\"text-align: right;\">\n",
       "      <th></th>\n",
       "      <th>loan_status</th>\n",
       "      <th>Principal</th>\n",
       "      <th>terms</th>\n",
       "      <th>age</th>\n",
       "      <th>education</th>\n",
       "      <th>Gender</th>\n",
       "    </tr>\n",
       "  </thead>\n",
       "  <tbody>\n",
       "    <tr>\n",
       "      <th>0</th>\n",
       "      <td>PAIDOFF</td>\n",
       "      <td>1000</td>\n",
       "      <td>30</td>\n",
       "      <td>45</td>\n",
       "      <td>High School or Below</td>\n",
       "      <td>male</td>\n",
       "    </tr>\n",
       "    <tr>\n",
       "      <th>1</th>\n",
       "      <td>PAIDOFF</td>\n",
       "      <td>1000</td>\n",
       "      <td>30</td>\n",
       "      <td>33</td>\n",
       "      <td>Bechalor</td>\n",
       "      <td>female</td>\n",
       "    </tr>\n",
       "    <tr>\n",
       "      <th>2</th>\n",
       "      <td>PAIDOFF</td>\n",
       "      <td>1000</td>\n",
       "      <td>15</td>\n",
       "      <td>27</td>\n",
       "      <td>college</td>\n",
       "      <td>male</td>\n",
       "    </tr>\n",
       "    <tr>\n",
       "      <th>3</th>\n",
       "      <td>PAIDOFF</td>\n",
       "      <td>1000</td>\n",
       "      <td>30</td>\n",
       "      <td>28</td>\n",
       "      <td>college</td>\n",
       "      <td>female</td>\n",
       "    </tr>\n",
       "    <tr>\n",
       "      <th>4</th>\n",
       "      <td>PAIDOFF</td>\n",
       "      <td>1000</td>\n",
       "      <td>30</td>\n",
       "      <td>29</td>\n",
       "      <td>college</td>\n",
       "      <td>male</td>\n",
       "    </tr>\n",
       "  </tbody>\n",
       "</table>\n",
       "</div>"
      ],
      "text/plain": [
       "  loan_status  Principal  terms  age             education  Gender\n",
       "0     PAIDOFF       1000     30   45  High School or Below    male\n",
       "1     PAIDOFF       1000     30   33              Bechalor  female\n",
       "2     PAIDOFF       1000     15   27               college    male\n",
       "3     PAIDOFF       1000     30   28               college  female\n",
       "4     PAIDOFF       1000     30   29               college    male"
      ]
     },
     "execution_count": 2,
     "metadata": {},
     "output_type": "execute_result"
    }
   ],
   "source": [
    "train = pd.read_csv('loan_train.csv')\n",
    "train.drop(['Unnamed: 0','Unnamed: 0.1','effective_date','due_date'], axis=1, inplace=True)\n",
    "train.head()"
   ]
  },
  {
   "cell_type": "code",
   "execution_count": 3,
   "metadata": {},
   "outputs": [],
   "source": [
    "test = pd.read_csv('loan_test.csv')\n",
    "test.drop(['Unnamed: 0','Unnamed: 0.1','effective_date','due_date'], axis=1, inplace=True)"
   ]
  },
  {
   "cell_type": "markdown",
   "metadata": {},
   "source": [
    "** 3. loan_status - 0 / 1 **"
   ]
  },
  {
   "cell_type": "code",
   "execution_count": 4,
   "metadata": {
    "scrolled": true
   },
   "outputs": [],
   "source": [
    "def Y_01 (x):\n",
    "    if x == 'PAIDOFF': return (1)\n",
    "    else: return (0)"
   ]
  },
  {
   "cell_type": "code",
   "execution_count": 5,
   "metadata": {},
   "outputs": [
    {
     "data": {
      "text/html": [
       "<div>\n",
       "<style scoped>\n",
       "    .dataframe tbody tr th:only-of-type {\n",
       "        vertical-align: middle;\n",
       "    }\n",
       "\n",
       "    .dataframe tbody tr th {\n",
       "        vertical-align: top;\n",
       "    }\n",
       "\n",
       "    .dataframe thead th {\n",
       "        text-align: right;\n",
       "    }\n",
       "</style>\n",
       "<table border=\"1\" class=\"dataframe\">\n",
       "  <thead>\n",
       "    <tr style=\"text-align: right;\">\n",
       "      <th></th>\n",
       "      <th>Principal</th>\n",
       "      <th>terms</th>\n",
       "      <th>age</th>\n",
       "      <th>education</th>\n",
       "      <th>Gender</th>\n",
       "      <th>Y</th>\n",
       "    </tr>\n",
       "  </thead>\n",
       "  <tbody>\n",
       "    <tr>\n",
       "      <th>0</th>\n",
       "      <td>1000</td>\n",
       "      <td>30</td>\n",
       "      <td>45</td>\n",
       "      <td>High School or Below</td>\n",
       "      <td>male</td>\n",
       "      <td>1</td>\n",
       "    </tr>\n",
       "    <tr>\n",
       "      <th>1</th>\n",
       "      <td>1000</td>\n",
       "      <td>30</td>\n",
       "      <td>33</td>\n",
       "      <td>Bechalor</td>\n",
       "      <td>female</td>\n",
       "      <td>1</td>\n",
       "    </tr>\n",
       "    <tr>\n",
       "      <th>2</th>\n",
       "      <td>1000</td>\n",
       "      <td>15</td>\n",
       "      <td>27</td>\n",
       "      <td>college</td>\n",
       "      <td>male</td>\n",
       "      <td>1</td>\n",
       "    </tr>\n",
       "    <tr>\n",
       "      <th>3</th>\n",
       "      <td>1000</td>\n",
       "      <td>30</td>\n",
       "      <td>28</td>\n",
       "      <td>college</td>\n",
       "      <td>female</td>\n",
       "      <td>1</td>\n",
       "    </tr>\n",
       "    <tr>\n",
       "      <th>4</th>\n",
       "      <td>1000</td>\n",
       "      <td>30</td>\n",
       "      <td>29</td>\n",
       "      <td>college</td>\n",
       "      <td>male</td>\n",
       "      <td>1</td>\n",
       "    </tr>\n",
       "  </tbody>\n",
       "</table>\n",
       "</div>"
      ],
      "text/plain": [
       "   Principal  terms  age             education  Gender  Y\n",
       "0       1000     30   45  High School or Below    male  1\n",
       "1       1000     30   33              Bechalor  female  1\n",
       "2       1000     15   27               college    male  1\n",
       "3       1000     30   28               college  female  1\n",
       "4       1000     30   29               college    male  1"
      ]
     },
     "execution_count": 5,
     "metadata": {},
     "output_type": "execute_result"
    }
   ],
   "source": [
    "train['Y'] = train['loan_status'].apply(Y_01)\n",
    "train.drop(['loan_status'], axis=1, inplace=True)\n",
    "train.head()"
   ]
  },
  {
   "cell_type": "code",
   "execution_count": 6,
   "metadata": {
    "collapsed": true
   },
   "outputs": [],
   "source": [
    "test['Y'] = test['loan_status'].apply(Y_01)\n",
    "test.drop(['loan_status'], axis=1, inplace=True)"
   ]
  },
  {
   "cell_type": "markdown",
   "metadata": {},
   "source": [
    "** 4. gender ** "
   ]
  },
  {
   "cell_type": "code",
   "execution_count": 7,
   "metadata": {},
   "outputs": [],
   "source": [
    "df = train[['Gender','Y']]\n",
    "df = df.groupby('Gender')['Y'].agg(['sum','count'])\n",
    "df['x_gender'] = np.log(df['sum']/df['count'])\n",
    "df.drop(['sum','count'], axis=1, inplace=True)\n",
    "df['Gender'] = df.index"
   ]
  },
  {
   "cell_type": "code",
   "execution_count": 8,
   "metadata": {
    "scrolled": true
   },
   "outputs": [
    {
     "data": {
      "text/html": [
       "<div>\n",
       "<style scoped>\n",
       "    .dataframe tbody tr th:only-of-type {\n",
       "        vertical-align: middle;\n",
       "    }\n",
       "\n",
       "    .dataframe tbody tr th {\n",
       "        vertical-align: top;\n",
       "    }\n",
       "\n",
       "    .dataframe thead th {\n",
       "        text-align: right;\n",
       "    }\n",
       "</style>\n",
       "<table border=\"1\" class=\"dataframe\">\n",
       "  <thead>\n",
       "    <tr style=\"text-align: right;\">\n",
       "      <th></th>\n",
       "      <th>Principal</th>\n",
       "      <th>terms</th>\n",
       "      <th>age</th>\n",
       "      <th>education</th>\n",
       "      <th>Y</th>\n",
       "      <th>x_gender</th>\n",
       "    </tr>\n",
       "  </thead>\n",
       "  <tbody>\n",
       "    <tr>\n",
       "      <th>0</th>\n",
       "      <td>1000</td>\n",
       "      <td>30</td>\n",
       "      <td>45</td>\n",
       "      <td>High School or Below</td>\n",
       "      <td>1</td>\n",
       "      <td>-0.312942</td>\n",
       "    </tr>\n",
       "    <tr>\n",
       "      <th>1</th>\n",
       "      <td>1000</td>\n",
       "      <td>30</td>\n",
       "      <td>33</td>\n",
       "      <td>Bechalor</td>\n",
       "      <td>1</td>\n",
       "      <td>-0.144581</td>\n",
       "    </tr>\n",
       "    <tr>\n",
       "      <th>2</th>\n",
       "      <td>1000</td>\n",
       "      <td>15</td>\n",
       "      <td>27</td>\n",
       "      <td>college</td>\n",
       "      <td>1</td>\n",
       "      <td>-0.312942</td>\n",
       "    </tr>\n",
       "    <tr>\n",
       "      <th>3</th>\n",
       "      <td>1000</td>\n",
       "      <td>30</td>\n",
       "      <td>28</td>\n",
       "      <td>college</td>\n",
       "      <td>1</td>\n",
       "      <td>-0.144581</td>\n",
       "    </tr>\n",
       "    <tr>\n",
       "      <th>4</th>\n",
       "      <td>1000</td>\n",
       "      <td>30</td>\n",
       "      <td>29</td>\n",
       "      <td>college</td>\n",
       "      <td>1</td>\n",
       "      <td>-0.312942</td>\n",
       "    </tr>\n",
       "  </tbody>\n",
       "</table>\n",
       "</div>"
      ],
      "text/plain": [
       "   Principal  terms  age             education  Y  x_gender\n",
       "0       1000     30   45  High School or Below  1 -0.312942\n",
       "1       1000     30   33              Bechalor  1 -0.144581\n",
       "2       1000     15   27               college  1 -0.312942\n",
       "3       1000     30   28               college  1 -0.144581\n",
       "4       1000     30   29               college  1 -0.312942"
      ]
     },
     "execution_count": 8,
     "metadata": {},
     "output_type": "execute_result"
    }
   ],
   "source": [
    "train = train.merge(df, how='left', on='Gender')\n",
    "train.drop(['Gender'], axis=1, inplace=True)\n",
    "train.head()"
   ]
  },
  {
   "cell_type": "code",
   "execution_count": 9,
   "metadata": {},
   "outputs": [],
   "source": [
    "test = test.merge(df, how='left', on='Gender')\n",
    "test.drop(['Gender'], axis=1, inplace=True)"
   ]
  },
  {
   "cell_type": "markdown",
   "metadata": {},
   "source": [
    "** 5. education **"
   ]
  },
  {
   "cell_type": "code",
   "execution_count": 10,
   "metadata": {
    "collapsed": true
   },
   "outputs": [],
   "source": [
    "def X_01 (x):\n",
    "    if x == 'Master or Above': return (1)\n",
    "    else: return (0)"
   ]
  },
  {
   "cell_type": "code",
   "execution_count": 11,
   "metadata": {
    "scrolled": true
   },
   "outputs": [
    {
     "data": {
      "text/html": [
       "<div>\n",
       "<style scoped>\n",
       "    .dataframe tbody tr th:only-of-type {\n",
       "        vertical-align: middle;\n",
       "    }\n",
       "\n",
       "    .dataframe tbody tr th {\n",
       "        vertical-align: top;\n",
       "    }\n",
       "\n",
       "    .dataframe thead th {\n",
       "        text-align: right;\n",
       "    }\n",
       "</style>\n",
       "<table border=\"1\" class=\"dataframe\">\n",
       "  <thead>\n",
       "    <tr style=\"text-align: right;\">\n",
       "      <th></th>\n",
       "      <th>Principal</th>\n",
       "      <th>terms</th>\n",
       "      <th>age</th>\n",
       "      <th>Y</th>\n",
       "      <th>x_gender</th>\n",
       "      <th>education_bin</th>\n",
       "    </tr>\n",
       "  </thead>\n",
       "  <tbody>\n",
       "    <tr>\n",
       "      <th>0</th>\n",
       "      <td>1000</td>\n",
       "      <td>30</td>\n",
       "      <td>45</td>\n",
       "      <td>1</td>\n",
       "      <td>-0.312942</td>\n",
       "      <td>0</td>\n",
       "    </tr>\n",
       "    <tr>\n",
       "      <th>1</th>\n",
       "      <td>1000</td>\n",
       "      <td>30</td>\n",
       "      <td>33</td>\n",
       "      <td>1</td>\n",
       "      <td>-0.144581</td>\n",
       "      <td>0</td>\n",
       "    </tr>\n",
       "    <tr>\n",
       "      <th>2</th>\n",
       "      <td>1000</td>\n",
       "      <td>15</td>\n",
       "      <td>27</td>\n",
       "      <td>1</td>\n",
       "      <td>-0.312942</td>\n",
       "      <td>0</td>\n",
       "    </tr>\n",
       "    <tr>\n",
       "      <th>3</th>\n",
       "      <td>1000</td>\n",
       "      <td>30</td>\n",
       "      <td>28</td>\n",
       "      <td>1</td>\n",
       "      <td>-0.144581</td>\n",
       "      <td>0</td>\n",
       "    </tr>\n",
       "    <tr>\n",
       "      <th>4</th>\n",
       "      <td>1000</td>\n",
       "      <td>30</td>\n",
       "      <td>29</td>\n",
       "      <td>1</td>\n",
       "      <td>-0.312942</td>\n",
       "      <td>0</td>\n",
       "    </tr>\n",
       "  </tbody>\n",
       "</table>\n",
       "</div>"
      ],
      "text/plain": [
       "   Principal  terms  age  Y  x_gender  education_bin\n",
       "0       1000     30   45  1 -0.312942              0\n",
       "1       1000     30   33  1 -0.144581              0\n",
       "2       1000     15   27  1 -0.312942              0\n",
       "3       1000     30   28  1 -0.144581              0\n",
       "4       1000     30   29  1 -0.312942              0"
      ]
     },
     "execution_count": 11,
     "metadata": {},
     "output_type": "execute_result"
    }
   ],
   "source": [
    "train['education_bin'] = train['education'].apply(X_01)\n",
    "train.drop(['education'], axis=1, inplace=True)\n",
    "train.head()"
   ]
  },
  {
   "cell_type": "code",
   "execution_count": 12,
   "metadata": {
    "collapsed": true
   },
   "outputs": [],
   "source": [
    "test['education_bin'] = test['education'].apply(Y_01)\n",
    "test.drop(['education'], axis=1, inplace=True)"
   ]
  },
  {
   "cell_type": "code",
   "execution_count": 13,
   "metadata": {},
   "outputs": [],
   "source": [
    "df = train[['education_bin','Y']]\n",
    "df = df.groupby('education_bin')['Y'].agg(['sum','count'])\n",
    "df['x_education'] = np.log(df['sum']/df['count'])\n",
    "df.drop(['sum','count'], axis=1, inplace=True)\n",
    "df['education_bin'] = df.index"
   ]
  },
  {
   "cell_type": "code",
   "execution_count": 14,
   "metadata": {},
   "outputs": [
    {
     "data": {
      "text/html": [
       "<div>\n",
       "<style scoped>\n",
       "    .dataframe tbody tr th:only-of-type {\n",
       "        vertical-align: middle;\n",
       "    }\n",
       "\n",
       "    .dataframe tbody tr th {\n",
       "        vertical-align: top;\n",
       "    }\n",
       "\n",
       "    .dataframe thead th {\n",
       "        text-align: right;\n",
       "    }\n",
       "</style>\n",
       "<table border=\"1\" class=\"dataframe\">\n",
       "  <thead>\n",
       "    <tr style=\"text-align: right;\">\n",
       "      <th></th>\n",
       "      <th>Principal</th>\n",
       "      <th>terms</th>\n",
       "      <th>age</th>\n",
       "      <th>Y</th>\n",
       "      <th>x_gender</th>\n",
       "      <th>x_education</th>\n",
       "    </tr>\n",
       "  </thead>\n",
       "  <tbody>\n",
       "    <tr>\n",
       "      <th>0</th>\n",
       "      <td>1000</td>\n",
       "      <td>30</td>\n",
       "      <td>45</td>\n",
       "      <td>1</td>\n",
       "      <td>-0.312942</td>\n",
       "      <td>-0.283814</td>\n",
       "    </tr>\n",
       "    <tr>\n",
       "      <th>1</th>\n",
       "      <td>1000</td>\n",
       "      <td>30</td>\n",
       "      <td>33</td>\n",
       "      <td>1</td>\n",
       "      <td>-0.144581</td>\n",
       "      <td>-0.283814</td>\n",
       "    </tr>\n",
       "    <tr>\n",
       "      <th>2</th>\n",
       "      <td>1000</td>\n",
       "      <td>15</td>\n",
       "      <td>27</td>\n",
       "      <td>1</td>\n",
       "      <td>-0.312942</td>\n",
       "      <td>-0.283814</td>\n",
       "    </tr>\n",
       "    <tr>\n",
       "      <th>3</th>\n",
       "      <td>1000</td>\n",
       "      <td>30</td>\n",
       "      <td>28</td>\n",
       "      <td>1</td>\n",
       "      <td>-0.144581</td>\n",
       "      <td>-0.283814</td>\n",
       "    </tr>\n",
       "    <tr>\n",
       "      <th>4</th>\n",
       "      <td>1000</td>\n",
       "      <td>30</td>\n",
       "      <td>29</td>\n",
       "      <td>1</td>\n",
       "      <td>-0.312942</td>\n",
       "      <td>-0.283814</td>\n",
       "    </tr>\n",
       "  </tbody>\n",
       "</table>\n",
       "</div>"
      ],
      "text/plain": [
       "   Principal  terms  age  Y  x_gender  x_education\n",
       "0       1000     30   45  1 -0.312942    -0.283814\n",
       "1       1000     30   33  1 -0.144581    -0.283814\n",
       "2       1000     15   27  1 -0.312942    -0.283814\n",
       "3       1000     30   28  1 -0.144581    -0.283814\n",
       "4       1000     30   29  1 -0.312942    -0.283814"
      ]
     },
     "execution_count": 14,
     "metadata": {},
     "output_type": "execute_result"
    }
   ],
   "source": [
    "train = train.merge(df, how='left', on='education_bin')\n",
    "train.drop(['education_bin'], axis=1, inplace=True)\n",
    "train.head()"
   ]
  },
  {
   "cell_type": "code",
   "execution_count": 15,
   "metadata": {
    "collapsed": true
   },
   "outputs": [],
   "source": [
    "test = test.merge(df, how='left', on='education_bin')\n",
    "test.drop(['education_bin'], axis=1, inplace=True)"
   ]
  },
  {
   "cell_type": "markdown",
   "metadata": {},
   "source": [
    "** 6. terms **"
   ]
  },
  {
   "cell_type": "code",
   "execution_count": 16,
   "metadata": {},
   "outputs": [],
   "source": [
    "df = train[['terms','Y']]\n",
    "df = df.groupby('terms')['Y'].agg(['sum','count'])\n",
    "df['x_terms'] = np.log(df['sum']/df['count'])\n",
    "df.drop(['sum','count'], axis=1, inplace=True)\n",
    "df['terms'] = df.index"
   ]
  },
  {
   "cell_type": "code",
   "execution_count": 17,
   "metadata": {},
   "outputs": [
    {
     "data": {
      "text/html": [
       "<div>\n",
       "<style scoped>\n",
       "    .dataframe tbody tr th:only-of-type {\n",
       "        vertical-align: middle;\n",
       "    }\n",
       "\n",
       "    .dataframe tbody tr th {\n",
       "        vertical-align: top;\n",
       "    }\n",
       "\n",
       "    .dataframe thead th {\n",
       "        text-align: right;\n",
       "    }\n",
       "</style>\n",
       "<table border=\"1\" class=\"dataframe\">\n",
       "  <thead>\n",
       "    <tr style=\"text-align: right;\">\n",
       "      <th></th>\n",
       "      <th>Principal</th>\n",
       "      <th>age</th>\n",
       "      <th>Y</th>\n",
       "      <th>x_gender</th>\n",
       "      <th>x_education</th>\n",
       "      <th>x_terms</th>\n",
       "    </tr>\n",
       "  </thead>\n",
       "  <tbody>\n",
       "    <tr>\n",
       "      <th>0</th>\n",
       "      <td>1000</td>\n",
       "      <td>45</td>\n",
       "      <td>1</td>\n",
       "      <td>-0.312942</td>\n",
       "      <td>-0.283814</td>\n",
       "      <td>-0.332134</td>\n",
       "    </tr>\n",
       "    <tr>\n",
       "      <th>1</th>\n",
       "      <td>1000</td>\n",
       "      <td>33</td>\n",
       "      <td>1</td>\n",
       "      <td>-0.144581</td>\n",
       "      <td>-0.283814</td>\n",
       "      <td>-0.332134</td>\n",
       "    </tr>\n",
       "    <tr>\n",
       "      <th>2</th>\n",
       "      <td>1000</td>\n",
       "      <td>27</td>\n",
       "      <td>1</td>\n",
       "      <td>-0.312942</td>\n",
       "      <td>-0.283814</td>\n",
       "      <td>-0.261014</td>\n",
       "    </tr>\n",
       "    <tr>\n",
       "      <th>3</th>\n",
       "      <td>1000</td>\n",
       "      <td>28</td>\n",
       "      <td>1</td>\n",
       "      <td>-0.144581</td>\n",
       "      <td>-0.283814</td>\n",
       "      <td>-0.332134</td>\n",
       "    </tr>\n",
       "    <tr>\n",
       "      <th>4</th>\n",
       "      <td>1000</td>\n",
       "      <td>29</td>\n",
       "      <td>1</td>\n",
       "      <td>-0.312942</td>\n",
       "      <td>-0.283814</td>\n",
       "      <td>-0.332134</td>\n",
       "    </tr>\n",
       "  </tbody>\n",
       "</table>\n",
       "</div>"
      ],
      "text/plain": [
       "   Principal  age  Y  x_gender  x_education   x_terms\n",
       "0       1000   45  1 -0.312942    -0.283814 -0.332134\n",
       "1       1000   33  1 -0.144581    -0.283814 -0.332134\n",
       "2       1000   27  1 -0.312942    -0.283814 -0.261014\n",
       "3       1000   28  1 -0.144581    -0.283814 -0.332134\n",
       "4       1000   29  1 -0.312942    -0.283814 -0.332134"
      ]
     },
     "execution_count": 17,
     "metadata": {},
     "output_type": "execute_result"
    }
   ],
   "source": [
    "train = train.merge(df, how='left', on='terms')\n",
    "train.drop(['terms'], axis=1, inplace=True)\n",
    "train.head()"
   ]
  },
  {
   "cell_type": "code",
   "execution_count": 18,
   "metadata": {
    "collapsed": true
   },
   "outputs": [],
   "source": [
    "test = test.merge(df, how='left', on='terms')\n",
    "test.drop(['terms'], axis=1, inplace=True)"
   ]
  },
  {
   "cell_type": "markdown",
   "metadata": {},
   "source": [
    "** 7. Principal **"
   ]
  },
  {
   "cell_type": "code",
   "execution_count": 19,
   "metadata": {},
   "outputs": [
    {
     "data": {
      "text/plain": [
       "[(900.0, 1000.0], (700.0, 800.0], (299.3, 400.0], (800.0, 900.0], (400.0, 500.0]]\n",
       "Categories (5, interval[float64]): [(299.3, 400.0] < (400.0, 500.0] < (700.0, 800.0] < (800.0, 900.0] < (900.0, 1000.0]]"
      ]
     },
     "execution_count": 19,
     "metadata": {},
     "output_type": "execute_result"
    }
   ],
   "source": [
    "df = pd.cut(x=train['Principal'], bins=7)\n",
    "df.unique()"
   ]
  },
  {
   "cell_type": "code",
   "execution_count": 20,
   "metadata": {
    "collapsed": true
   },
   "outputs": [],
   "source": [
    "def X_5 (x):\n",
    "    if x <= 400: return (900)\n",
    "    elif x <= 500: return (900)\n",
    "    elif x <= 800: return (800)\n",
    "    elif x <= 900: return (900)\n",
    "    else: return (1000)"
   ]
  },
  {
   "cell_type": "code",
   "execution_count": 21,
   "metadata": {},
   "outputs": [
    {
     "data": {
      "text/html": [
       "<div>\n",
       "<style scoped>\n",
       "    .dataframe tbody tr th:only-of-type {\n",
       "        vertical-align: middle;\n",
       "    }\n",
       "\n",
       "    .dataframe tbody tr th {\n",
       "        vertical-align: top;\n",
       "    }\n",
       "\n",
       "    .dataframe thead th {\n",
       "        text-align: right;\n",
       "    }\n",
       "</style>\n",
       "<table border=\"1\" class=\"dataframe\">\n",
       "  <thead>\n",
       "    <tr style=\"text-align: right;\">\n",
       "      <th></th>\n",
       "      <th>age</th>\n",
       "      <th>Y</th>\n",
       "      <th>x_gender</th>\n",
       "      <th>x_education</th>\n",
       "      <th>x_terms</th>\n",
       "      <th>Principal_bin</th>\n",
       "    </tr>\n",
       "  </thead>\n",
       "  <tbody>\n",
       "    <tr>\n",
       "      <th>0</th>\n",
       "      <td>45</td>\n",
       "      <td>1</td>\n",
       "      <td>-0.312942</td>\n",
       "      <td>-0.283814</td>\n",
       "      <td>-0.332134</td>\n",
       "      <td>1000</td>\n",
       "    </tr>\n",
       "    <tr>\n",
       "      <th>1</th>\n",
       "      <td>33</td>\n",
       "      <td>1</td>\n",
       "      <td>-0.144581</td>\n",
       "      <td>-0.283814</td>\n",
       "      <td>-0.332134</td>\n",
       "      <td>1000</td>\n",
       "    </tr>\n",
       "    <tr>\n",
       "      <th>2</th>\n",
       "      <td>27</td>\n",
       "      <td>1</td>\n",
       "      <td>-0.312942</td>\n",
       "      <td>-0.283814</td>\n",
       "      <td>-0.261014</td>\n",
       "      <td>1000</td>\n",
       "    </tr>\n",
       "    <tr>\n",
       "      <th>3</th>\n",
       "      <td>28</td>\n",
       "      <td>1</td>\n",
       "      <td>-0.144581</td>\n",
       "      <td>-0.283814</td>\n",
       "      <td>-0.332134</td>\n",
       "      <td>1000</td>\n",
       "    </tr>\n",
       "    <tr>\n",
       "      <th>4</th>\n",
       "      <td>29</td>\n",
       "      <td>1</td>\n",
       "      <td>-0.312942</td>\n",
       "      <td>-0.283814</td>\n",
       "      <td>-0.332134</td>\n",
       "      <td>1000</td>\n",
       "    </tr>\n",
       "  </tbody>\n",
       "</table>\n",
       "</div>"
      ],
      "text/plain": [
       "   age  Y  x_gender  x_education   x_terms  Principal_bin\n",
       "0   45  1 -0.312942    -0.283814 -0.332134           1000\n",
       "1   33  1 -0.144581    -0.283814 -0.332134           1000\n",
       "2   27  1 -0.312942    -0.283814 -0.261014           1000\n",
       "3   28  1 -0.144581    -0.283814 -0.332134           1000\n",
       "4   29  1 -0.312942    -0.283814 -0.332134           1000"
      ]
     },
     "execution_count": 21,
     "metadata": {},
     "output_type": "execute_result"
    }
   ],
   "source": [
    "train['Principal_bin'] = train['Principal'].apply(X_5)\n",
    "train.drop(['Principal'], axis=1, inplace=True)\n",
    "train.head()"
   ]
  },
  {
   "cell_type": "code",
   "execution_count": 22,
   "metadata": {
    "collapsed": true
   },
   "outputs": [],
   "source": [
    "test['Principal_bin'] = test['Principal'].apply(X_5)\n",
    "test.drop(['Principal'], axis=1, inplace=True)"
   ]
  },
  {
   "cell_type": "code",
   "execution_count": 23,
   "metadata": {},
   "outputs": [],
   "source": [
    "df = train[['Principal_bin','Y']]\n",
    "df = df.groupby('Principal_bin')['Y'].agg(['sum','count'])\n",
    "df['x_Principal'] = np.log(df['sum']/df['count'])\n",
    "df.drop(['sum','count'], axis=1, inplace=True)\n",
    "df['Principal_bin'] = df.index"
   ]
  },
  {
   "cell_type": "code",
   "execution_count": 24,
   "metadata": {},
   "outputs": [
    {
     "data": {
      "text/html": [
       "<div>\n",
       "<style scoped>\n",
       "    .dataframe tbody tr th:only-of-type {\n",
       "        vertical-align: middle;\n",
       "    }\n",
       "\n",
       "    .dataframe tbody tr th {\n",
       "        vertical-align: top;\n",
       "    }\n",
       "\n",
       "    .dataframe thead th {\n",
       "        text-align: right;\n",
       "    }\n",
       "</style>\n",
       "<table border=\"1\" class=\"dataframe\">\n",
       "  <thead>\n",
       "    <tr style=\"text-align: right;\">\n",
       "      <th></th>\n",
       "      <th>age</th>\n",
       "      <th>Y</th>\n",
       "      <th>x_gender</th>\n",
       "      <th>x_education</th>\n",
       "      <th>x_terms</th>\n",
       "      <th>x_Principal</th>\n",
       "    </tr>\n",
       "  </thead>\n",
       "  <tbody>\n",
       "    <tr>\n",
       "      <th>0</th>\n",
       "      <td>45</td>\n",
       "      <td>1</td>\n",
       "      <td>-0.312942</td>\n",
       "      <td>-0.283814</td>\n",
       "      <td>-0.332134</td>\n",
       "      <td>-0.305936</td>\n",
       "    </tr>\n",
       "    <tr>\n",
       "      <th>1</th>\n",
       "      <td>33</td>\n",
       "      <td>1</td>\n",
       "      <td>-0.144581</td>\n",
       "      <td>-0.283814</td>\n",
       "      <td>-0.332134</td>\n",
       "      <td>-0.305936</td>\n",
       "    </tr>\n",
       "    <tr>\n",
       "      <th>2</th>\n",
       "      <td>27</td>\n",
       "      <td>1</td>\n",
       "      <td>-0.312942</td>\n",
       "      <td>-0.283814</td>\n",
       "      <td>-0.261014</td>\n",
       "      <td>-0.305936</td>\n",
       "    </tr>\n",
       "    <tr>\n",
       "      <th>3</th>\n",
       "      <td>28</td>\n",
       "      <td>1</td>\n",
       "      <td>-0.144581</td>\n",
       "      <td>-0.283814</td>\n",
       "      <td>-0.332134</td>\n",
       "      <td>-0.305936</td>\n",
       "    </tr>\n",
       "    <tr>\n",
       "      <th>4</th>\n",
       "      <td>29</td>\n",
       "      <td>1</td>\n",
       "      <td>-0.312942</td>\n",
       "      <td>-0.283814</td>\n",
       "      <td>-0.332134</td>\n",
       "      <td>-0.305936</td>\n",
       "    </tr>\n",
       "  </tbody>\n",
       "</table>\n",
       "</div>"
      ],
      "text/plain": [
       "   age  Y  x_gender  x_education   x_terms  x_Principal\n",
       "0   45  1 -0.312942    -0.283814 -0.332134    -0.305936\n",
       "1   33  1 -0.144581    -0.283814 -0.332134    -0.305936\n",
       "2   27  1 -0.312942    -0.283814 -0.261014    -0.305936\n",
       "3   28  1 -0.144581    -0.283814 -0.332134    -0.305936\n",
       "4   29  1 -0.312942    -0.283814 -0.332134    -0.305936"
      ]
     },
     "execution_count": 24,
     "metadata": {},
     "output_type": "execute_result"
    }
   ],
   "source": [
    "train = train.merge(df, how='left', on='Principal_bin')\n",
    "train.drop(['Principal_bin'], axis=1, inplace=True)\n",
    "train.head()"
   ]
  },
  {
   "cell_type": "code",
   "execution_count": 25,
   "metadata": {
    "collapsed": true
   },
   "outputs": [],
   "source": [
    "test = test.merge(df, how='left', on='Principal_bin')\n",
    "test.drop(['Principal_bin'], axis=1, inplace=True)"
   ]
  },
  {
   "cell_type": "markdown",
   "metadata": {},
   "source": [
    "** 8. age ** "
   ]
  },
  {
   "cell_type": "code",
   "execution_count": 26,
   "metadata": {},
   "outputs": [
    {
     "data": {
      "text/plain": [
       "[(41.571, 46.286], (32.143, 36.857], (22.714, 27.429], (27.429, 32.143], (36.857, 41.571], (17.967, 22.714], (46.286, 51.0]]\n",
       "Categories (7, interval[float64]): [(17.967, 22.714] < (22.714, 27.429] < (27.429, 32.143] < (32.143, 36.857] < (36.857, 41.571] < (41.571, 46.286] < (46.286, 51.0]]"
      ]
     },
     "execution_count": 26,
     "metadata": {},
     "output_type": "execute_result"
    }
   ],
   "source": [
    "df = pd.cut(x=train['age'], bins=7)\n",
    "df.unique()"
   ]
  },
  {
   "cell_type": "code",
   "execution_count": 27,
   "metadata": {
    "collapsed": true
   },
   "outputs": [],
   "source": [
    "def X_7 (x):\n",
    "    if x <= 22.714: return (1)\n",
    "    elif x <= 27.429: return (2)\n",
    "    elif x <= 32.143: return (3)\n",
    "    elif x <= 36.857: return (4)\n",
    "    elif x <= 41.571: return (5)\n",
    "    elif x <= 46.286: return (6)\n",
    "    else: return (7)"
   ]
  },
  {
   "cell_type": "code",
   "execution_count": 28,
   "metadata": {},
   "outputs": [
    {
     "data": {
      "text/html": [
       "<div>\n",
       "<style scoped>\n",
       "    .dataframe tbody tr th:only-of-type {\n",
       "        vertical-align: middle;\n",
       "    }\n",
       "\n",
       "    .dataframe tbody tr th {\n",
       "        vertical-align: top;\n",
       "    }\n",
       "\n",
       "    .dataframe thead th {\n",
       "        text-align: right;\n",
       "    }\n",
       "</style>\n",
       "<table border=\"1\" class=\"dataframe\">\n",
       "  <thead>\n",
       "    <tr style=\"text-align: right;\">\n",
       "      <th></th>\n",
       "      <th>Y</th>\n",
       "      <th>x_gender</th>\n",
       "      <th>x_education</th>\n",
       "      <th>x_terms</th>\n",
       "      <th>x_Principal</th>\n",
       "      <th>age_bin</th>\n",
       "    </tr>\n",
       "  </thead>\n",
       "  <tbody>\n",
       "    <tr>\n",
       "      <th>0</th>\n",
       "      <td>1</td>\n",
       "      <td>-0.312942</td>\n",
       "      <td>-0.283814</td>\n",
       "      <td>-0.332134</td>\n",
       "      <td>-0.305936</td>\n",
       "      <td>6</td>\n",
       "    </tr>\n",
       "    <tr>\n",
       "      <th>1</th>\n",
       "      <td>1</td>\n",
       "      <td>-0.144581</td>\n",
       "      <td>-0.283814</td>\n",
       "      <td>-0.332134</td>\n",
       "      <td>-0.305936</td>\n",
       "      <td>4</td>\n",
       "    </tr>\n",
       "    <tr>\n",
       "      <th>2</th>\n",
       "      <td>1</td>\n",
       "      <td>-0.312942</td>\n",
       "      <td>-0.283814</td>\n",
       "      <td>-0.261014</td>\n",
       "      <td>-0.305936</td>\n",
       "      <td>2</td>\n",
       "    </tr>\n",
       "    <tr>\n",
       "      <th>3</th>\n",
       "      <td>1</td>\n",
       "      <td>-0.144581</td>\n",
       "      <td>-0.283814</td>\n",
       "      <td>-0.332134</td>\n",
       "      <td>-0.305936</td>\n",
       "      <td>3</td>\n",
       "    </tr>\n",
       "    <tr>\n",
       "      <th>4</th>\n",
       "      <td>1</td>\n",
       "      <td>-0.312942</td>\n",
       "      <td>-0.283814</td>\n",
       "      <td>-0.332134</td>\n",
       "      <td>-0.305936</td>\n",
       "      <td>3</td>\n",
       "    </tr>\n",
       "  </tbody>\n",
       "</table>\n",
       "</div>"
      ],
      "text/plain": [
       "   Y  x_gender  x_education   x_terms  x_Principal  age_bin\n",
       "0  1 -0.312942    -0.283814 -0.332134    -0.305936        6\n",
       "1  1 -0.144581    -0.283814 -0.332134    -0.305936        4\n",
       "2  1 -0.312942    -0.283814 -0.261014    -0.305936        2\n",
       "3  1 -0.144581    -0.283814 -0.332134    -0.305936        3\n",
       "4  1 -0.312942    -0.283814 -0.332134    -0.305936        3"
      ]
     },
     "execution_count": 28,
     "metadata": {},
     "output_type": "execute_result"
    }
   ],
   "source": [
    "train['age_bin'] = train['age'].apply(X_7)\n",
    "train.drop(['age'], axis=1, inplace=True)\n",
    "train.head()"
   ]
  },
  {
   "cell_type": "code",
   "execution_count": 29,
   "metadata": {
    "collapsed": true
   },
   "outputs": [],
   "source": [
    "test['age_bin'] = test['age'].apply(X_7)\n",
    "test.drop(['age'], axis=1, inplace=True)"
   ]
  },
  {
   "cell_type": "code",
   "execution_count": 30,
   "metadata": {},
   "outputs": [],
   "source": [
    "df = train[['age_bin','Y']]\n",
    "df = df.groupby('age_bin')['Y'].agg(['sum','count'])\n",
    "df['x_age'] = np.log(df['sum']/df['count'])\n",
    "df.drop(['sum','count'], axis=1, inplace=True)\n",
    "df['age_bin'] = df.index"
   ]
  },
  {
   "cell_type": "code",
   "execution_count": 31,
   "metadata": {},
   "outputs": [
    {
     "data": {
      "text/html": [
       "<div>\n",
       "<style scoped>\n",
       "    .dataframe tbody tr th:only-of-type {\n",
       "        vertical-align: middle;\n",
       "    }\n",
       "\n",
       "    .dataframe tbody tr th {\n",
       "        vertical-align: top;\n",
       "    }\n",
       "\n",
       "    .dataframe thead th {\n",
       "        text-align: right;\n",
       "    }\n",
       "</style>\n",
       "<table border=\"1\" class=\"dataframe\">\n",
       "  <thead>\n",
       "    <tr style=\"text-align: right;\">\n",
       "      <th></th>\n",
       "      <th>Y</th>\n",
       "      <th>x_gender</th>\n",
       "      <th>x_education</th>\n",
       "      <th>x_terms</th>\n",
       "      <th>x_Principal</th>\n",
       "      <th>x_age</th>\n",
       "    </tr>\n",
       "  </thead>\n",
       "  <tbody>\n",
       "    <tr>\n",
       "      <th>0</th>\n",
       "      <td>1</td>\n",
       "      <td>-0.312942</td>\n",
       "      <td>-0.283814</td>\n",
       "      <td>-0.332134</td>\n",
       "      <td>-0.305936</td>\n",
       "      <td>-0.207639</td>\n",
       "    </tr>\n",
       "    <tr>\n",
       "      <th>1</th>\n",
       "      <td>1</td>\n",
       "      <td>-0.144581</td>\n",
       "      <td>-0.283814</td>\n",
       "      <td>-0.332134</td>\n",
       "      <td>-0.305936</td>\n",
       "      <td>-0.200671</td>\n",
       "    </tr>\n",
       "    <tr>\n",
       "      <th>2</th>\n",
       "      <td>1</td>\n",
       "      <td>-0.312942</td>\n",
       "      <td>-0.283814</td>\n",
       "      <td>-0.261014</td>\n",
       "      <td>-0.305936</td>\n",
       "      <td>-0.347401</td>\n",
       "    </tr>\n",
       "    <tr>\n",
       "      <th>3</th>\n",
       "      <td>1</td>\n",
       "      <td>-0.144581</td>\n",
       "      <td>-0.283814</td>\n",
       "      <td>-0.332134</td>\n",
       "      <td>-0.305936</td>\n",
       "      <td>-0.278713</td>\n",
       "    </tr>\n",
       "    <tr>\n",
       "      <th>4</th>\n",
       "      <td>1</td>\n",
       "      <td>-0.312942</td>\n",
       "      <td>-0.283814</td>\n",
       "      <td>-0.332134</td>\n",
       "      <td>-0.305936</td>\n",
       "      <td>-0.278713</td>\n",
       "    </tr>\n",
       "  </tbody>\n",
       "</table>\n",
       "</div>"
      ],
      "text/plain": [
       "   Y  x_gender  x_education   x_terms  x_Principal     x_age\n",
       "0  1 -0.312942    -0.283814 -0.332134    -0.305936 -0.207639\n",
       "1  1 -0.144581    -0.283814 -0.332134    -0.305936 -0.200671\n",
       "2  1 -0.312942    -0.283814 -0.261014    -0.305936 -0.347401\n",
       "3  1 -0.144581    -0.283814 -0.332134    -0.305936 -0.278713\n",
       "4  1 -0.312942    -0.283814 -0.332134    -0.305936 -0.278713"
      ]
     },
     "execution_count": 31,
     "metadata": {},
     "output_type": "execute_result"
    }
   ],
   "source": [
    "train = train.merge(df, how='left', on='age_bin')\n",
    "train.drop(['age_bin'], axis=1, inplace=True)\n",
    "train.head()"
   ]
  },
  {
   "cell_type": "code",
   "execution_count": 32,
   "metadata": {
    "collapsed": true
   },
   "outputs": [],
   "source": [
    "test = test.merge(df, how='left', on='age_bin')\n",
    "test.drop(['age_bin'], axis=1, inplace=True)"
   ]
  },
  {
   "cell_type": "markdown",
   "metadata": {},
   "source": [
    "** 9. correlation matrix ** "
   ]
  },
  {
   "cell_type": "code",
   "execution_count": 33,
   "metadata": {},
   "outputs": [
    {
     "data": {
      "text/html": [
       "<div>\n",
       "<style scoped>\n",
       "    .dataframe tbody tr th:only-of-type {\n",
       "        vertical-align: middle;\n",
       "    }\n",
       "\n",
       "    .dataframe tbody tr th {\n",
       "        vertical-align: top;\n",
       "    }\n",
       "\n",
       "    .dataframe thead th {\n",
       "        text-align: right;\n",
       "    }\n",
       "</style>\n",
       "<table border=\"1\" class=\"dataframe\">\n",
       "  <thead>\n",
       "    <tr style=\"text-align: right;\">\n",
       "      <th></th>\n",
       "      <th>x_gender</th>\n",
       "      <th>x_education</th>\n",
       "      <th>x_terms</th>\n",
       "      <th>x_Principal</th>\n",
       "      <th>x_age</th>\n",
       "    </tr>\n",
       "  </thead>\n",
       "  <tbody>\n",
       "    <tr>\n",
       "      <th>x_gender</th>\n",
       "      <td>1.000000</td>\n",
       "      <td>0.032067</td>\n",
       "      <td>0.041444</td>\n",
       "      <td>0.048028</td>\n",
       "      <td>0.031637</td>\n",
       "    </tr>\n",
       "    <tr>\n",
       "      <th>x_education</th>\n",
       "      <td>0.032067</td>\n",
       "      <td>1.000000</td>\n",
       "      <td>-0.030308</td>\n",
       "      <td>-0.013451</td>\n",
       "      <td>0.016982</td>\n",
       "    </tr>\n",
       "    <tr>\n",
       "      <th>x_terms</th>\n",
       "      <td>0.041444</td>\n",
       "      <td>-0.030308</td>\n",
       "      <td>1.000000</td>\n",
       "      <td>0.511211</td>\n",
       "      <td>-0.021617</td>\n",
       "    </tr>\n",
       "    <tr>\n",
       "      <th>x_Principal</th>\n",
       "      <td>0.048028</td>\n",
       "      <td>-0.013451</td>\n",
       "      <td>0.511211</td>\n",
       "      <td>1.000000</td>\n",
       "      <td>-0.008470</td>\n",
       "    </tr>\n",
       "    <tr>\n",
       "      <th>x_age</th>\n",
       "      <td>0.031637</td>\n",
       "      <td>0.016982</td>\n",
       "      <td>-0.021617</td>\n",
       "      <td>-0.008470</td>\n",
       "      <td>1.000000</td>\n",
       "    </tr>\n",
       "  </tbody>\n",
       "</table>\n",
       "</div>"
      ],
      "text/plain": [
       "             x_gender  x_education   x_terms  x_Principal     x_age\n",
       "x_gender     1.000000     0.032067  0.041444     0.048028  0.031637\n",
       "x_education  0.032067     1.000000 -0.030308    -0.013451  0.016982\n",
       "x_terms      0.041444    -0.030308  1.000000     0.511211 -0.021617\n",
       "x_Principal  0.048028    -0.013451  0.511211     1.000000 -0.008470\n",
       "x_age        0.031637     0.016982 -0.021617    -0.008470  1.000000"
      ]
     },
     "execution_count": 33,
     "metadata": {},
     "output_type": "execute_result"
    }
   ],
   "source": [
    "train.drop(['Y'], axis=1).corr()"
   ]
  },
  {
   "cell_type": "markdown",
   "metadata": {},
   "source": [
    "** 10. raw logistic reg **"
   ]
  },
  {
   "cell_type": "code",
   "execution_count": 34,
   "metadata": {
    "collapsed": true
   },
   "outputs": [],
   "source": [
    "y = train['Y']\n",
    "x = train.drop(['Y'], axis=1)"
   ]
  },
  {
   "cell_type": "code",
   "execution_count": 35,
   "metadata": {},
   "outputs": [
    {
     "name": "stdout",
     "output_type": "stream",
     "text": [
      "Optimization terminated successfully.\n",
      "         Current function value: 0.536218\n",
      "         Iterations 7\n"
     ]
    },
    {
     "data": {
      "text/html": [
       "<table class=\"simpletable\">\n",
       "<caption>Logit Regression Results</caption>\n",
       "<tr>\n",
       "  <th>Dep. Variable:</th>           <td>Y</td>        <th>  No. Observations:  </th>  <td>   346</td> \n",
       "</tr>\n",
       "<tr>\n",
       "  <th>Model:</th>                 <td>Logit</td>      <th>  Df Residuals:      </th>  <td>   340</td> \n",
       "</tr>\n",
       "<tr>\n",
       "  <th>Method:</th>                 <td>MLE</td>       <th>  Df Model:          </th>  <td>     5</td> \n",
       "</tr>\n",
       "<tr>\n",
       "  <th>Date:</th>            <td>Sat, 21 Mar 2020</td> <th>  Pseudo R-squ.:     </th>  <td>0.04374</td>\n",
       "</tr>\n",
       "<tr>\n",
       "  <th>Time:</th>                <td>16:11:57</td>     <th>  Log-Likelihood:    </th> <td> -185.53</td>\n",
       "</tr>\n",
       "<tr>\n",
       "  <th>converged:</th>             <td>True</td>       <th>  LL-Null:           </th> <td> -194.02</td>\n",
       "</tr>\n",
       "<tr>\n",
       "  <th>Covariance Type:</th>     <td>nonrobust</td>    <th>  LLR p-value:       </th> <td>0.004556</td>\n",
       "</tr>\n",
       "</table>\n",
       "<table class=\"simpletable\">\n",
       "<tr>\n",
       "       <td></td>          <th>coef</th>     <th>std err</th>      <th>z</th>      <th>P>|z|</th>  <th>[0.025</th>    <th>0.975]</th>  \n",
       "</tr>\n",
       "<tr>\n",
       "  <th>const</th>       <td>    7.0204</td> <td>    1.924</td> <td>    3.649</td> <td> 0.000</td> <td>    3.250</td> <td>   10.791</td>\n",
       "</tr>\n",
       "<tr>\n",
       "  <th>x_gender</th>    <td>    4.7831</td> <td>    2.569</td> <td>    1.862</td> <td> 0.063</td> <td>   -0.251</td> <td>    9.818</td>\n",
       "</tr>\n",
       "<tr>\n",
       "  <th>x_education</th> <td>    2.9508</td> <td>    3.509</td> <td>    0.841</td> <td> 0.400</td> <td>   -3.927</td> <td>    9.828</td>\n",
       "</tr>\n",
       "<tr>\n",
       "  <th>x_terms</th>     <td>    5.8171</td> <td>    3.134</td> <td>    1.856</td> <td> 0.063</td> <td>   -0.326</td> <td>   11.960</td>\n",
       "</tr>\n",
       "<tr>\n",
       "  <th>x_Principal</th> <td>    2.5800</td> <td>    4.758</td> <td>    0.542</td> <td> 0.588</td> <td>   -6.745</td> <td>   11.905</td>\n",
       "</tr>\n",
       "<tr>\n",
       "  <th>x_age</th>       <td>    4.1186</td> <td>    2.095</td> <td>    1.966</td> <td> 0.049</td> <td>    0.013</td> <td>    8.224</td>\n",
       "</tr>\n",
       "</table>"
      ],
      "text/plain": [
       "<class 'statsmodels.iolib.summary.Summary'>\n",
       "\"\"\"\n",
       "                           Logit Regression Results                           \n",
       "==============================================================================\n",
       "Dep. Variable:                      Y   No. Observations:                  346\n",
       "Model:                          Logit   Df Residuals:                      340\n",
       "Method:                           MLE   Df Model:                            5\n",
       "Date:                Sat, 21 Mar 2020   Pseudo R-squ.:                 0.04374\n",
       "Time:                        16:11:57   Log-Likelihood:                -185.53\n",
       "converged:                       True   LL-Null:                       -194.02\n",
       "Covariance Type:            nonrobust   LLR p-value:                  0.004556\n",
       "===============================================================================\n",
       "                  coef    std err          z      P>|z|      [0.025      0.975]\n",
       "-------------------------------------------------------------------------------\n",
       "const           7.0204      1.924      3.649      0.000       3.250      10.791\n",
       "x_gender        4.7831      2.569      1.862      0.063      -0.251       9.818\n",
       "x_education     2.9508      3.509      0.841      0.400      -3.927       9.828\n",
       "x_terms         5.8171      3.134      1.856      0.063      -0.326      11.960\n",
       "x_Principal     2.5800      4.758      0.542      0.588      -6.745      11.905\n",
       "x_age           4.1186      2.095      1.966      0.049       0.013       8.224\n",
       "===============================================================================\n",
       "\"\"\""
      ]
     },
     "execution_count": 35,
     "metadata": {},
     "output_type": "execute_result"
    }
   ],
   "source": [
    "x = sm.add_constant(x)\n",
    "reg_log = sm.Logit(y,x)\n",
    "results_log = reg_log.fit()\n",
    "results_log.summary()"
   ]
  },
  {
   "cell_type": "markdown",
   "metadata": {},
   "source": [
    "** 11. final logistic reg **"
   ]
  },
  {
   "cell_type": "code",
   "execution_count": 36,
   "metadata": {
    "collapsed": true
   },
   "outputs": [],
   "source": [
    "y = train['Y']\n",
    "x = train.drop(['Y','x_Principal','x_education'], axis=1)"
   ]
  },
  {
   "cell_type": "code",
   "execution_count": 37,
   "metadata": {},
   "outputs": [
    {
     "name": "stdout",
     "output_type": "stream",
     "text": [
      "Optimization terminated successfully.\n",
      "         Current function value: 0.537634\n",
      "         Iterations 6\n"
     ]
    },
    {
     "data": {
      "text/html": [
       "<table class=\"simpletable\">\n",
       "<caption>Logit Regression Results</caption>\n",
       "<tr>\n",
       "  <th>Dep. Variable:</th>           <td>Y</td>        <th>  No. Observations:  </th>  <td>   346</td> \n",
       "</tr>\n",
       "<tr>\n",
       "  <th>Model:</th>                 <td>Logit</td>      <th>  Df Residuals:      </th>  <td>   342</td> \n",
       "</tr>\n",
       "<tr>\n",
       "  <th>Method:</th>                 <td>MLE</td>       <th>  Df Model:          </th>  <td>     3</td> \n",
       "</tr>\n",
       "<tr>\n",
       "  <th>Date:</th>            <td>Sat, 21 Mar 2020</td> <th>  Pseudo R-squ.:     </th>  <td>0.04121</td>\n",
       "</tr>\n",
       "<tr>\n",
       "  <th>Time:</th>                <td>16:11:58</td>     <th>  Log-Likelihood:    </th> <td> -186.02</td>\n",
       "</tr>\n",
       "<tr>\n",
       "  <th>converged:</th>             <td>True</td>       <th>  LL-Null:           </th> <td> -194.02</td>\n",
       "</tr>\n",
       "<tr>\n",
       "  <th>Covariance Type:</th>     <td>nonrobust</td>    <th>  LLR p-value:       </th> <td>0.001139</td>\n",
       "</tr>\n",
       "</table>\n",
       "<table class=\"simpletable\">\n",
       "<tr>\n",
       "      <td></td>        <th>coef</th>     <th>std err</th>      <th>z</th>      <th>P>|z|</th>  <th>[0.025</th>    <th>0.975]</th>  \n",
       "</tr>\n",
       "<tr>\n",
       "  <th>const</th>    <td>    5.6781</td> <td>    1.305</td> <td>    4.351</td> <td> 0.000</td> <td>    3.120</td> <td>    8.236</td>\n",
       "</tr>\n",
       "<tr>\n",
       "  <th>x_gender</th> <td>    4.8989</td> <td>    2.565</td> <td>    1.910</td> <td> 0.056</td> <td>   -0.128</td> <td>    9.926</td>\n",
       "</tr>\n",
       "<tr>\n",
       "  <th>x_terms</th>  <td>    6.5266</td> <td>    2.777</td> <td>    2.350</td> <td> 0.019</td> <td>    1.083</td> <td>   11.970</td>\n",
       "</tr>\n",
       "<tr>\n",
       "  <th>x_age</th>    <td>    4.1548</td> <td>    2.092</td> <td>    1.986</td> <td> 0.047</td> <td>    0.055</td> <td>    8.254</td>\n",
       "</tr>\n",
       "</table>"
      ],
      "text/plain": [
       "<class 'statsmodels.iolib.summary.Summary'>\n",
       "\"\"\"\n",
       "                           Logit Regression Results                           \n",
       "==============================================================================\n",
       "Dep. Variable:                      Y   No. Observations:                  346\n",
       "Model:                          Logit   Df Residuals:                      342\n",
       "Method:                           MLE   Df Model:                            3\n",
       "Date:                Sat, 21 Mar 2020   Pseudo R-squ.:                 0.04121\n",
       "Time:                        16:11:58   Log-Likelihood:                -186.02\n",
       "converged:                       True   LL-Null:                       -194.02\n",
       "Covariance Type:            nonrobust   LLR p-value:                  0.001139\n",
       "==============================================================================\n",
       "                 coef    std err          z      P>|z|      [0.025      0.975]\n",
       "------------------------------------------------------------------------------\n",
       "const          5.6781      1.305      4.351      0.000       3.120       8.236\n",
       "x_gender       4.8989      2.565      1.910      0.056      -0.128       9.926\n",
       "x_terms        6.5266      2.777      2.350      0.019       1.083      11.970\n",
       "x_age          4.1548      2.092      1.986      0.047       0.055       8.254\n",
       "==============================================================================\n",
       "\"\"\""
      ]
     },
     "execution_count": 37,
     "metadata": {},
     "output_type": "execute_result"
    }
   ],
   "source": [
    "x = sm.add_constant(x)\n",
    "reg_log = sm.Logit(y,x)\n",
    "results_log = reg_log.fit()\n",
    "results_log.summary()"
   ]
  },
  {
   "cell_type": "markdown",
   "metadata": {},
   "source": [
    "** 12. test data **"
   ]
  },
  {
   "cell_type": "code",
   "execution_count": 38,
   "metadata": {
    "collapsed": true
   },
   "outputs": [],
   "source": [
    "y_test = test['Y']\n",
    "x_test = test.drop(['Y','x_Principal','x_education'], axis=1)"
   ]
  },
  {
   "cell_type": "code",
   "execution_count": 39,
   "metadata": {},
   "outputs": [
    {
     "data": {
      "text/plain": [
       "array([[ 7.,  7.],\n",
       "       [18., 22.]])"
      ]
     },
     "execution_count": 39,
     "metadata": {},
     "output_type": "execute_result"
    }
   ],
   "source": [
    "x_test = sm.add_constant(x_test)\n",
    "pred_values = results_log.predict(x_test)\n",
    "bins=np.array([0,0.75,1])\n",
    "cm = np.histogram2d(y_test, pred_values, bins=bins)[0]\n",
    "cm"
   ]
  },
  {
   "cell_type": "code",
   "execution_count": 40,
   "metadata": {},
   "outputs": [
    {
     "data": {
      "text/plain": [
       "0.5370370370370371"
      ]
     },
     "execution_count": 40,
     "metadata": {},
     "output_type": "execute_result"
    }
   ],
   "source": [
    "accuracy = (cm[0,0]+cm[1,1])/cm.sum()\n",
    "accuracy"
   ]
  }
 ],
 "metadata": {
  "kernelspec": {
   "display_name": "Python 3",
   "language": "python",
   "name": "python3"
  },
  "language_info": {
   "codemirror_mode": {
    "name": "ipython",
    "version": 3
   },
   "file_extension": ".py",
   "mimetype": "text/x-python",
   "name": "python",
   "nbconvert_exporter": "python",
   "pygments_lexer": "ipython3",
   "version": "3.6.2"
  }
 },
 "nbformat": 4,
 "nbformat_minor": 2
}
