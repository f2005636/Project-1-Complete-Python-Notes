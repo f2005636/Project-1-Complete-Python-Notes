{
 "cells": [
  {
   "cell_type": "markdown",
   "metadata": {},
   "source": [
    "** 1. import libraries **"
   ]
  },
  {
   "cell_type": "code",
   "execution_count": 1,
   "metadata": {
    "collapsed": true
   },
   "outputs": [],
   "source": [
    "import numpy as np\n",
    "import pandas as pd\n",
    "import statsmodels.api as sm\n",
    "import matplotlib.pyplot as plt\n",
    "plt.style.use('seaborn-white')\n",
    "%matplotlib inline\n",
    "plt.rcParams['figure.figsize'] = 15,4\n",
    "import seaborn as sns"
   ]
  },
  {
   "cell_type": "markdown",
   "metadata": {},
   "source": [
    "** 2. import dataset **"
   ]
  },
  {
   "cell_type": "code",
   "execution_count": 2,
   "metadata": {},
   "outputs": [
    {
     "data": {
      "text/html": [
       "<div>\n",
       "<style scoped>\n",
       "    .dataframe tbody tr th:only-of-type {\n",
       "        vertical-align: middle;\n",
       "    }\n",
       "\n",
       "    .dataframe tbody tr th {\n",
       "        vertical-align: top;\n",
       "    }\n",
       "\n",
       "    .dataframe thead th {\n",
       "        text-align: right;\n",
       "    }\n",
       "</style>\n",
       "<table border=\"1\" class=\"dataframe\">\n",
       "  <thead>\n",
       "    <tr style=\"text-align: right;\">\n",
       "      <th></th>\n",
       "      <th>Brand</th>\n",
       "      <th>Price</th>\n",
       "      <th>Mileage</th>\n",
       "      <th>EngineV</th>\n",
       "      <th>Year</th>\n",
       "    </tr>\n",
       "  </thead>\n",
       "  <tbody>\n",
       "    <tr>\n",
       "      <th>0</th>\n",
       "      <td>Mercedes-Benz</td>\n",
       "      <td>222000.0</td>\n",
       "      <td>1</td>\n",
       "      <td>6.3</td>\n",
       "      <td>2016</td>\n",
       "    </tr>\n",
       "    <tr>\n",
       "      <th>1</th>\n",
       "      <td>Mercedes-Benz</td>\n",
       "      <td>177000.0</td>\n",
       "      <td>1</td>\n",
       "      <td>5.5</td>\n",
       "      <td>2016</td>\n",
       "    </tr>\n",
       "    <tr>\n",
       "      <th>2</th>\n",
       "      <td>Mercedes-Benz</td>\n",
       "      <td>177777.0</td>\n",
       "      <td>1</td>\n",
       "      <td>5.5</td>\n",
       "      <td>2016</td>\n",
       "    </tr>\n",
       "    <tr>\n",
       "      <th>3</th>\n",
       "      <td>Mercedes-Benz</td>\n",
       "      <td>199999.0</td>\n",
       "      <td>1</td>\n",
       "      <td>5.5</td>\n",
       "      <td>2016</td>\n",
       "    </tr>\n",
       "    <tr>\n",
       "      <th>4</th>\n",
       "      <td>Mercedes-Benz</td>\n",
       "      <td>199999.0</td>\n",
       "      <td>1</td>\n",
       "      <td>5.5</td>\n",
       "      <td>2016</td>\n",
       "    </tr>\n",
       "  </tbody>\n",
       "</table>\n",
       "</div>"
      ],
      "text/plain": [
       "           Brand     Price  Mileage  EngineV  Year\n",
       "0  Mercedes-Benz  222000.0        1      6.3  2016\n",
       "1  Mercedes-Benz  177000.0        1      5.5  2016\n",
       "2  Mercedes-Benz  177777.0        1      5.5  2016\n",
       "3  Mercedes-Benz  199999.0        1      5.5  2016\n",
       "4  Mercedes-Benz  199999.0        1      5.5  2016"
      ]
     },
     "execution_count": 2,
     "metadata": {},
     "output_type": "execute_result"
    }
   ],
   "source": [
    "df = pd.read_csv('used cars.csv')\n",
    "df.head()"
   ]
  },
  {
   "cell_type": "markdown",
   "metadata": {},
   "source": [
    "** 3. dummies **"
   ]
  },
  {
   "cell_type": "code",
   "execution_count": 3,
   "metadata": {},
   "outputs": [
    {
     "data": {
      "text/html": [
       "<div>\n",
       "<style scoped>\n",
       "    .dataframe tbody tr th:only-of-type {\n",
       "        vertical-align: middle;\n",
       "    }\n",
       "\n",
       "    .dataframe tbody tr th {\n",
       "        vertical-align: top;\n",
       "    }\n",
       "\n",
       "    .dataframe thead th {\n",
       "        text-align: right;\n",
       "    }\n",
       "</style>\n",
       "<table border=\"1\" class=\"dataframe\">\n",
       "  <thead>\n",
       "    <tr style=\"text-align: right;\">\n",
       "      <th></th>\n",
       "      <th>EngineV</th>\n",
       "      <th>Year</th>\n",
       "      <th>log Price</th>\n",
       "      <th>log Mileage</th>\n",
       "      <th>Brand_Audi</th>\n",
       "      <th>Brand_BMW</th>\n",
       "      <th>Brand_Mercedes-Benz</th>\n",
       "      <th>Brand_Mitsubishi</th>\n",
       "      <th>Brand_Renault</th>\n",
       "      <th>Brand_Toyota</th>\n",
       "      <th>Brand_Volkswagen</th>\n",
       "    </tr>\n",
       "  </thead>\n",
       "  <tbody>\n",
       "    <tr>\n",
       "      <th>0</th>\n",
       "      <td>6.3</td>\n",
       "      <td>2016</td>\n",
       "      <td>12.310433</td>\n",
       "      <td>0.0</td>\n",
       "      <td>0</td>\n",
       "      <td>0</td>\n",
       "      <td>1</td>\n",
       "      <td>0</td>\n",
       "      <td>0</td>\n",
       "      <td>0</td>\n",
       "      <td>0</td>\n",
       "    </tr>\n",
       "    <tr>\n",
       "      <th>1</th>\n",
       "      <td>5.5</td>\n",
       "      <td>2016</td>\n",
       "      <td>12.083905</td>\n",
       "      <td>0.0</td>\n",
       "      <td>0</td>\n",
       "      <td>0</td>\n",
       "      <td>1</td>\n",
       "      <td>0</td>\n",
       "      <td>0</td>\n",
       "      <td>0</td>\n",
       "      <td>0</td>\n",
       "    </tr>\n",
       "    <tr>\n",
       "      <th>2</th>\n",
       "      <td>5.5</td>\n",
       "      <td>2016</td>\n",
       "      <td>12.088285</td>\n",
       "      <td>0.0</td>\n",
       "      <td>0</td>\n",
       "      <td>0</td>\n",
       "      <td>1</td>\n",
       "      <td>0</td>\n",
       "      <td>0</td>\n",
       "      <td>0</td>\n",
       "      <td>0</td>\n",
       "    </tr>\n",
       "    <tr>\n",
       "      <th>3</th>\n",
       "      <td>5.5</td>\n",
       "      <td>2016</td>\n",
       "      <td>12.206068</td>\n",
       "      <td>0.0</td>\n",
       "      <td>0</td>\n",
       "      <td>0</td>\n",
       "      <td>1</td>\n",
       "      <td>0</td>\n",
       "      <td>0</td>\n",
       "      <td>0</td>\n",
       "      <td>0</td>\n",
       "    </tr>\n",
       "    <tr>\n",
       "      <th>4</th>\n",
       "      <td>5.5</td>\n",
       "      <td>2016</td>\n",
       "      <td>12.206068</td>\n",
       "      <td>0.0</td>\n",
       "      <td>0</td>\n",
       "      <td>0</td>\n",
       "      <td>1</td>\n",
       "      <td>0</td>\n",
       "      <td>0</td>\n",
       "      <td>0</td>\n",
       "      <td>0</td>\n",
       "    </tr>\n",
       "  </tbody>\n",
       "</table>\n",
       "</div>"
      ],
      "text/plain": [
       "   EngineV  Year  log Price  log Mileage  Brand_Audi  Brand_BMW  \\\n",
       "0      6.3  2016  12.310433          0.0           0          0   \n",
       "1      5.5  2016  12.083905          0.0           0          0   \n",
       "2      5.5  2016  12.088285          0.0           0          0   \n",
       "3      5.5  2016  12.206068          0.0           0          0   \n",
       "4      5.5  2016  12.206068          0.0           0          0   \n",
       "\n",
       "   Brand_Mercedes-Benz  Brand_Mitsubishi  Brand_Renault  Brand_Toyota  \\\n",
       "0                    1                 0              0             0   \n",
       "1                    1                 0              0             0   \n",
       "2                    1                 0              0             0   \n",
       "3                    1                 0              0             0   \n",
       "4                    1                 0              0             0   \n",
       "\n",
       "   Brand_Volkswagen  \n",
       "0                 0  \n",
       "1                 0  \n",
       "2                 0  \n",
       "3                 0  \n",
       "4                 0  "
      ]
     },
     "execution_count": 3,
     "metadata": {},
     "output_type": "execute_result"
    }
   ],
   "source": [
    "df['log Price'] = np.log(df['Price'])\n",
    "df['log Mileage'] = np.log(df['Mileage'])\n",
    "df.drop(['Price','Mileage'], axis=1, inplace=True)\n",
    "df = pd.get_dummies(df)\n",
    "df.head()"
   ]
  },
  {
   "cell_type": "markdown",
   "metadata": {},
   "source": [
    "** 4. scatter plot ** "
   ]
  },
  {
   "cell_type": "code",
   "execution_count": 4,
   "metadata": {},
   "outputs": [
    {
     "data": {
      "text/plain": [
       "<matplotlib.collections.PathCollection at 0x16768163748>"
      ]
     },
     "execution_count": 4,
     "metadata": {},
     "output_type": "execute_result"
    },
    {
     "data": {
      "image/png": "[encoded data removed]",
      "text/plain": [
       "<Figure size 1080x288 with 3 Axes>"
      ]
     },
     "metadata": {},
     "output_type": "display_data"
    }
   ],
   "source": [
    "fig, axs = plt.subplots(1,3)\n",
    "axs[0].scatter(df['log Mileage'], df['log Price'], color='lightblue')\n",
    "axs[1].scatter(df['EngineV'], df['log Price'], color='lightblue')\n",
    "axs[2].scatter(df['Year'], df['log Price'], color='lightblue')"
   ]
  },
  {
   "cell_type": "markdown",
   "metadata": {},
   "source": [
    "** 3. correlation matrix ** "
   ]
  },
  {
   "cell_type": "code",
   "execution_count": 5,
   "metadata": {},
   "outputs": [
    {
     "data": {
      "text/html": [
       "<div>\n",
       "<style scoped>\n",
       "    .dataframe tbody tr th:only-of-type {\n",
       "        vertical-align: middle;\n",
       "    }\n",
       "\n",
       "    .dataframe tbody tr th {\n",
       "        vertical-align: top;\n",
       "    }\n",
       "\n",
       "    .dataframe thead th {\n",
       "        text-align: right;\n",
       "    }\n",
       "</style>\n",
       "<table border=\"1\" class=\"dataframe\">\n",
       "  <thead>\n",
       "    <tr style=\"text-align: right;\">\n",
       "      <th></th>\n",
       "      <th>log Mileage</th>\n",
       "      <th>EngineV</th>\n",
       "      <th>Year</th>\n",
       "    </tr>\n",
       "  </thead>\n",
       "  <tbody>\n",
       "    <tr>\n",
       "      <th>log Mileage</th>\n",
       "      <td>1.000000</td>\n",
       "      <td>-0.034281</td>\n",
       "      <td>-0.50063</td>\n",
       "    </tr>\n",
       "    <tr>\n",
       "      <th>EngineV</th>\n",
       "      <td>-0.034281</td>\n",
       "      <td>1.000000</td>\n",
       "      <td>0.03889</td>\n",
       "    </tr>\n",
       "    <tr>\n",
       "      <th>Year</th>\n",
       "      <td>-0.500630</td>\n",
       "      <td>0.038890</td>\n",
       "      <td>1.00000</td>\n",
       "    </tr>\n",
       "  </tbody>\n",
       "</table>\n",
       "</div>"
      ],
      "text/plain": [
       "             log Mileage   EngineV     Year\n",
       "log Mileage     1.000000 -0.034281 -0.50063\n",
       "EngineV        -0.034281  1.000000  0.03889\n",
       "Year           -0.500630  0.038890  1.00000"
      ]
     },
     "execution_count": 5,
     "metadata": {},
     "output_type": "execute_result"
    }
   ],
   "source": [
    "df[['log Mileage', 'EngineV', 'Year']].corr()"
   ]
  },
  {
   "cell_type": "markdown",
   "metadata": {},
   "source": [
    "** 4. linear reg **"
   ]
  },
  {
   "cell_type": "code",
   "execution_count": 6,
   "metadata": {
    "collapsed": true
   },
   "outputs": [],
   "source": [
    "y = df['log Price']\n",
    "x = df.drop(['log Price'], axis=1)"
   ]
  },
  {
   "cell_type": "code",
   "execution_count": 7,
   "metadata": {},
   "outputs": [
    {
     "data": {
      "text/html": [
       "<table class=\"simpletable\">\n",
       "<caption>OLS Regression Results</caption>\n",
       "<tr>\n",
       "  <th>Dep. Variable:</th>        <td>log Price</td>    <th>  R-squared:         </th> <td>   0.802</td>\n",
       "</tr>\n",
       "<tr>\n",
       "  <th>Model:</th>                   <td>OLS</td>       <th>  Adj. R-squared:    </th> <td>   0.801</td>\n",
       "</tr>\n",
       "<tr>\n",
       "  <th>Method:</th>             <td>Least Squares</td>  <th>  F-statistic:       </th> <td>   1795.</td>\n",
       "</tr>\n",
       "<tr>\n",
       "  <th>Date:</th>             <td>Sun, 29 Mar 2020</td> <th>  Prob (F-statistic):</th>  <td>  0.00</td> \n",
       "</tr>\n",
       "<tr>\n",
       "  <th>Time:</th>                 <td>07:59:33</td>     <th>  Log-Likelihood:    </th> <td> -2162.8</td>\n",
       "</tr>\n",
       "<tr>\n",
       "  <th>No. Observations:</th>      <td>  4003</td>      <th>  AIC:               </th> <td>   4346.</td>\n",
       "</tr>\n",
       "<tr>\n",
       "  <th>Df Residuals:</th>          <td>  3993</td>      <th>  BIC:               </th> <td>   4409.</td>\n",
       "</tr>\n",
       "<tr>\n",
       "  <th>Df Model:</th>              <td>     9</td>      <th>                     </th>     <td> </td>   \n",
       "</tr>\n",
       "<tr>\n",
       "  <th>Covariance Type:</th>      <td>nonrobust</td>    <th>                     </th>     <td> </td>   \n",
       "</tr>\n",
       "</table>\n",
       "<table class=\"simpletable\">\n",
       "<tr>\n",
       "           <td></td>              <th>coef</th>     <th>std err</th>      <th>t</th>      <th>P>|t|</th>  <th>[0.025</th>    <th>0.975]</th>  \n",
       "</tr>\n",
       "<tr>\n",
       "  <th>const</th>               <td> -157.9402</td> <td>    2.047</td> <td>  -77.169</td> <td> 0.000</td> <td> -161.953</td> <td> -153.928</td>\n",
       "</tr>\n",
       "<tr>\n",
       "  <th>EngineV</th>             <td>    0.3209</td> <td>    0.008</td> <td>   41.597</td> <td> 0.000</td> <td>    0.306</td> <td>    0.336</td>\n",
       "</tr>\n",
       "<tr>\n",
       "  <th>Year</th>                <td>    0.0945</td> <td>    0.001</td> <td>   81.429</td> <td> 0.000</td> <td>    0.092</td> <td>    0.097</td>\n",
       "</tr>\n",
       "<tr>\n",
       "  <th>log Mileage</th>         <td>   -0.1073</td> <td>    0.005</td> <td>  -20.191</td> <td> 0.000</td> <td>   -0.118</td> <td>   -0.097</td>\n",
       "</tr>\n",
       "<tr>\n",
       "  <th>Brand_Audi</th>          <td>  -22.4626</td> <td>    0.292</td> <td>  -77.049</td> <td> 0.000</td> <td>  -23.034</td> <td>  -21.891</td>\n",
       "</tr>\n",
       "<tr>\n",
       "  <th>Brand_BMW</th>           <td>  -22.3466</td> <td>    0.291</td> <td>  -76.836</td> <td> 0.000</td> <td>  -22.917</td> <td>  -21.776</td>\n",
       "</tr>\n",
       "<tr>\n",
       "  <th>Brand_Mercedes-Benz</th> <td>  -22.3575</td> <td>    0.292</td> <td>  -76.675</td> <td> 0.000</td> <td>  -22.929</td> <td>  -21.786</td>\n",
       "</tr>\n",
       "<tr>\n",
       "  <th>Brand_Mitsubishi</th>    <td>  -22.7088</td> <td>    0.293</td> <td>  -77.455</td> <td> 0.000</td> <td>  -23.284</td> <td>  -22.134</td>\n",
       "</tr>\n",
       "<tr>\n",
       "  <th>Brand_Renault</th>       <td>  -22.9658</td> <td>    0.296</td> <td>  -77.621</td> <td> 0.000</td> <td>  -23.546</td> <td>  -22.386</td>\n",
       "</tr>\n",
       "<tr>\n",
       "  <th>Brand_Toyota</th>        <td>  -22.5027</td> <td>    0.294</td> <td>  -76.537</td> <td> 0.000</td> <td>  -23.079</td> <td>  -21.926</td>\n",
       "</tr>\n",
       "<tr>\n",
       "  <th>Brand_Volkswagen</th>    <td>  -22.5963</td> <td>    0.293</td> <td>  -77.037</td> <td> 0.000</td> <td>  -23.171</td> <td>  -22.021</td>\n",
       "</tr>\n",
       "</table>\n",
       "<table class=\"simpletable\">\n",
       "<tr>\n",
       "  <th>Omnibus:</th>       <td>409.526</td> <th>  Durbin-Watson:     </th> <td>   1.534</td>\n",
       "</tr>\n",
       "<tr>\n",
       "  <th>Prob(Omnibus):</th> <td> 0.000</td>  <th>  Jarque-Bera (JB):  </th> <td>2948.036</td>\n",
       "</tr>\n",
       "<tr>\n",
       "  <th>Skew:</th>          <td>-0.186</td>  <th>  Prob(JB):          </th> <td>    0.00</td>\n",
       "</tr>\n",
       "<tr>\n",
       "  <th>Kurtosis:</th>      <td> 7.188</td>  <th>  Cond. No.          </th> <td>7.42e+18</td>\n",
       "</tr>\n",
       "</table><br/><br/>Warnings:<br/>[1] Standard Errors assume that the covariance matrix of the errors is correctly specified.<br/>[2] The smallest eigenvalue is 2.93e-28. This might indicate that there are<br/>strong multicollinearity problems or that the design matrix is singular."
      ],
      "text/plain": [
       "<class 'statsmodels.iolib.summary.Summary'>\n",
       "\"\"\"\n",
       "                            OLS Regression Results                            \n",
       "==============================================================================\n",
       "Dep. Variable:              log Price   R-squared:                       0.802\n",
       "Model:                            OLS   Adj. R-squared:                  0.801\n",
       "Method:                 Least Squares   F-statistic:                     1795.\n",
       "Date:                Sun, 29 Mar 2020   Prob (F-statistic):               0.00\n",
       "Time:                        07:59:33   Log-Likelihood:                -2162.8\n",
       "No. Observations:                4003   AIC:                             4346.\n",
       "Df Residuals:                    3993   BIC:                             4409.\n",
       "Df Model:                           9                                         \n",
       "Covariance Type:            nonrobust                                         \n",
       "=======================================================================================\n",
       "                          coef    std err          t      P>|t|      [0.025      0.975]\n",
       "---------------------------------------------------------------------------------------\n",
       "const                -157.9402      2.047    -77.169      0.000    -161.953    -153.928\n",
       "EngineV                 0.3209      0.008     41.597      0.000       0.306       0.336\n",
       "Year                    0.0945      0.001     81.429      0.000       0.092       0.097\n",
       "log Mileage            -0.1073      0.005    -20.191      0.000      -0.118      -0.097\n",
       "Brand_Audi            -22.4626      0.292    -77.049      0.000     -23.034     -21.891\n",
       "Brand_BMW             -22.3466      0.291    -76.836      0.000     -22.917     -21.776\n",
       "Brand_Mercedes-Benz   -22.3575      0.292    -76.675      0.000     -22.929     -21.786\n",
       "Brand_Mitsubishi      -22.7088      0.293    -77.455      0.000     -23.284     -22.134\n",
       "Brand_Renault         -22.9658      0.296    -77.621      0.000     -23.546     -22.386\n",
       "Brand_Toyota          -22.5027      0.294    -76.537      0.000     -23.079     -21.926\n",
       "Brand_Volkswagen      -22.5963      0.293    -77.037      0.000     -23.171     -22.021\n",
       "==============================================================================\n",
       "Omnibus:                      409.526   Durbin-Watson:                   1.534\n",
       "Prob(Omnibus):                  0.000   Jarque-Bera (JB):             2948.036\n",
       "Skew:                          -0.186   Prob(JB):                         0.00\n",
       "Kurtosis:                       7.188   Cond. No.                     7.42e+18\n",
       "==============================================================================\n",
       "\n",
       "Warnings:\n",
       "[1] Standard Errors assume that the covariance matrix of the errors is correctly specified.\n",
       "[2] The smallest eigenvalue is 2.93e-28. This might indicate that there are\n",
       "strong multicollinearity problems or that the design matrix is singular.\n",
       "\"\"\""
      ]
     },
     "execution_count": 7,
     "metadata": {},
     "output_type": "execute_result"
    }
   ],
   "source": [
    "x = sm.add_constant(x)\n",
    "reg = sm.OLS(y,x)\n",
    "results = reg.fit()\n",
    "results.summary()"
   ]
  },
  {
   "cell_type": "markdown",
   "metadata": {
    "collapsed": true
   },
   "source": [
    "** 5. predicted **"
   ]
  },
  {
   "cell_type": "code",
   "execution_count": 8,
   "metadata": {},
   "outputs": [],
   "source": [
    "pred = results.predict(x)"
   ]
  },
  {
   "cell_type": "code",
   "execution_count": 9,
   "metadata": {},
   "outputs": [
    {
     "data": {
      "text/plain": [
       "Text(0,0.5,'predicted')"
      ]
     },
     "execution_count": 9,
     "metadata": {},
     "output_type": "execute_result"
    },
    {
     "data": {
      "image/png": "[encoded data removed]",
      "text/plain": [
       "<Figure size 360x360 with 1 Axes>"
      ]
     },
     "metadata": {},
     "output_type": "display_data"
    }
   ],
   "source": [
    "plt.rcParams['figure.figsize'] = 5,5\n",
    "plt.scatter(y, pred, color='lightblue')\n",
    "plt.plot(y, y, color='darkblue')\n",
    "plt.xlabel('actual')\n",
    "plt.ylabel('predicted')"
   ]
  }
 ],
 "metadata": {
  "kernelspec": {
   "display_name": "Python 3",
   "language": "python",
   "name": "python3"
  },
  "language_info": {
   "codemirror_mode": {
    "name": "ipython",
    "version": 3
   },
   "file_extension": ".py",
   "mimetype": "text/x-python",
   "name": "python",
   "nbconvert_exporter": "python",
   "pygments_lexer": "ipython3",
   "version": "3.6.2"
  }
 },
 "nbformat": 4,
 "nbformat_minor": 2
}
